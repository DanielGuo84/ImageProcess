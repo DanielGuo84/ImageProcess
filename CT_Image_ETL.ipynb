{
 "cells": [
  {
   "cell_type": "code",
   "execution_count": null,
   "metadata": {},
   "outputs": [],
   "source": [
    "import numpy as np\n",
    "import cv2\n",
    "from matplotlib import pyplot as plt\n",
    "import pandas as pd\n",
    "import os\n",
    "import math\n",
    "import keras\n",
    "import nibabel as nib\n",
    "%matplotlib inline"
   ]
  },
  {
   "cell_type": "code",
   "execution_count": null,
   "metadata": {},
   "outputs": [],
   "source": [
    "#File_name組成由 'Patien_index'(6位數)_'Study_index'(2位數)_'Series_ID'(2位數)_'Key_slice_index'(3位數)\n",
    "\"%06d\" % df.iloc[0]['Patient_index'] + \"_\" + \"%02d\" % df.iloc[0]['Study_index'] + \"_\" + \\\n",
    "\"%02d\" % df.iloc[0]['Series_ID'] + \"_\" + \"%03d\" % df.iloc[0]['Key_slice_index'] + \".png\""
   ]
  },
  {
   "cell_type": "code",
   "execution_count": null,
   "metadata": {},
   "outputs": [],
   "source": [
    "#將各個nifti檔另外存成2D圖---ok\n",
    "df = pd.read_csv('DL_info.csv')\n",
    "niftiPath = 'C:/Users/Big data/Desktop/Images_nift/'\n",
    "#核對 file_name 在資料夾內的順序\n",
    "Images_png_Dir = 'E:/Anaconda3/Test_Image/Images_png/'\n",
    "Images_png_list = os.listdir(Images_png_Dir)\n",
    "\n",
    "for j in range(len(df)):\n",
    "    folder_Name = \"%06d\" % df.iloc[j]['Patient_index'] + \"_\" + \"%02d\" % df.iloc[j]['Study_index'] + \"_\" + \\\n",
    "    \"%02d\" % df.iloc[j]['Series_ID']\n",
    "    \n",
    "    nifti_Name = \"%06d\" % df.iloc[j]['Patient_index'] + \"_\" + \"%02d\" % df.iloc[j]['Study_index'] + \"_\" + \\\n",
    "    \"%02d\" % df.iloc[j]['Series_ID'] + \"_\" + Slice_range_start + \"-\" + Slice_range_end + \".nii.gz\"\n",
    "    print('nifti_Name=', nifti_Name)\n",
    "\n",
    "    Slice_range_start = df.iloc[j]['Slice_range'].split(', ')[0].zfill(3)\n",
    "    Slice_range_end = df.iloc[j]['Slice_range'].split(', ')[1].zfill(3)\n",
    "    \n",
    "    #讀取nifti檔案\n",
    "    img = nib.load(niftiPath + nifti_Name)\n",
    "    img_data = img.get_fdata()\n",
    "    print('shape=', img_data.shape)\n",
    "    #print(img_data)  #numpy.ndarray\n",
    "    #照片對比須調整plt.imsave的vmin, vmax(需參照 DICOM_windows value)\n",
    "    window_start = pd.to_numeric(df.iloc[j]['DICOM_windows'].split(', ')[0]).astype(np.int64)\n",
    "    window_end = pd.to_numeric(df.iloc[j]['DICOM_windows'].split(', ')[1]).astype(np.int64)\n",
    "    #確認 folder_Name(ex:000001_01_01)是否跟 Images_png 符合\n",
    "    #比對 Key_slice_index在nifti的位置, 並取 2D 圖\n",
    "    try:\n",
    "        if folder_Name in Images_png_list:\n",
    "            #print('folder_Name=', folder_Name)\n",
    "            file_list = os.listdir(Images_png_Dir + folder_Name + '/')\n",
    "            #print('file_list=', file_list)\n",
    "            file_name = \"%03d\" % df.iloc[j]['Key_slice_index'] + \".png\"\n",
    "            #print('file_name=', file_name)  #str\n",
    "            file_seq = file_list.index(file_name)\n",
    "            #print('file_seq=', file_seq)\n",
    "            #確認folder中的順序後, 以File_name為主, 取出slice\n",
    "            slice = img_data[:, :, file_seq]\n",
    "            #print('slice=', slice)\n",
    "            #讀取特定slice並另存成灰階圖\n",
    "            plt.imsave('E:/Anaconda3/Test_Image/CT_key_slice_image/' + df.iloc[j]['File_name'], slice, cmap='Greys_r', \n",
    "                       vmin=window_start, vmax=window_end)\n",
    "        else:\n",
    "            print('Not found')\n",
    "    except:\n",
    "        continue"
   ]
  },
  {
   "cell_type": "code",
   "execution_count": null,
   "metadata": {},
   "outputs": [],
   "source": [
    "#框出病徵(Bounding_Boxes)\n",
    "for k in range(len(df)):    \n",
    "    df = pd.read_csv('DL_info.csv')\n",
    "    Xmin = pd.to_numeric(df.iloc[k]['Bounding_boxes'].split(', ')[0]).astype(np.int64)\n",
    "    Ymin = pd.to_numeric(df.iloc[k]['Bounding_boxes'].split(', ')[1]).astype(np.int64)\n",
    "    Xmax = pd.to_numeric(df.iloc[k]['Bounding_boxes'].split(', ')[2]).astype(np.int64)\n",
    "    Ymax = pd.to_numeric(df.iloc[k]['Bounding_boxes'].split(', ')[3]).astype(np.int64)\n",
    "    print('Xmin={}, Ymin={}, Xmax={}, Ymax={}'.format(Xmin, Ymin, Xmax, Ymax))\n",
    "    #讀取照片檔案\n",
    "    CT_key_slice_Dir = 'E:/Anaconda3/Test_Image/CT_key_slice_image/'\n",
    "    img = cv2.imread(CT_key_slice_Dir + df.iloc[k]['File_name'])\n",
    "    #框選圖片\n",
    "    #cv2.rectangle(img, (x,y), (x+w , y+h), (255, 0, 0), 2)\n",
    "    rec_img = cv2.rectangle(img, (Xmin, Ymin), (Xmax, Ymax), (0, 255, 0), 2)\n",
    "    '''\n",
    "    cv2.imshow(df.iloc[k]['File_name'], rec_img)\n",
    "    cv2.waitKey(0)\n",
    "    cv2.destroyAllWindows()\n",
    "    '''\n",
    "    #將框好的全圖檔, 全圖檔存在另外的資料夾\n",
    "    cv2.imwrite('./CT_key_slice_image_rec/' + df.iloc[k]['File_name'], rec_img)"
   ]
  },
  {
   "cell_type": "code",
   "execution_count": null,
   "metadata": {},
   "outputs": [],
   "source": [
    "#將照片類別分類...ok\n",
    "#train: Train_Val_Test = 1, test: Train_Val_Test = 2\n",
    "df = pd.read_csv('DL_info.csv')\n",
    "key_slice_image_Dir = 'E:/Anaconda3/Test_Image/CT_key_slice_image/'\n",
    "key_slice_image_class_Dir = 'E:/Anaconda3/Test_Image/CT_key_slice_image_class/'\n",
    "for i in range(len(df)):\n",
    "    key_slice_img = cv2.imread(key_slice_image_Dir + df.iloc[i]['File_name'])\n",
    "    Train_Val_Test_type = df.iloc[i]['Train_Val_Test']\n",
    "    if Train_Val_Test_type == 1:\n",
    "        cv2.imwrite( key_slice_image_class_Dir + 'train_image/' + df.iloc[i]['File_name'], key_slice_img)\n",
    "    elif Train_Val_Test_type == 2:\n",
    "        cv2.imwrite( key_slice_image_class_Dir + 'test_image/' + df.iloc[i]['File_name'], key_slice_img)\n",
    "    else:\n",
    "        cv2.imwrite( key_slice_image_class_Dir + 'other/' + df.iloc[i]['File_name'], key_slice_img)"
   ]
  },
  {
   "cell_type": "code",
   "execution_count": null,
   "metadata": {},
   "outputs": [],
   "source": [
    "#篩選 Train_Val_Test=1, 顯示 File_name, Bounding_boxes\n",
    "df = pd.read_csv('DL_info.csv')\n",
    "train_df = df.loc[df['Train_Val_Test']==1, ['File_name', 'Bounding_boxes', 'Coarse_lesion_type', 'Train_Val_Test']]\n",
    "#將Bounding_boxes 4個數值各別取出 (Xmin, Ymin, Xmax, Ymax)後, 再結合Train_Val_Test == 2, 並另存csv檔\n",
    "count = len(open('DL_info.csv','r').readlines())\n",
    "for i in range(count):\n",
    "    Xmin = pd.to_numeric(train_df.iloc[i]['Bounding_boxes'].split(', ')[0]).astype(np.int64)\n",
    "    Ymin = pd.to_numeric(train_df.iloc[i]['Bounding_boxes'].split(', ')[1]).astype(np.int64)\n",
    "    Xmax = pd.to_numeric(train_df.iloc[i]['Bounding_boxes'].split(', ')[2]).astype(np.int64)\n",
    "    Ymax = pd.to_numeric(train_df.iloc[i]['Bounding_boxes'].split(', ')[3]).astype(np.int64)\n",
    "    #print('Xmin={}, Ymin={}, Xmax={}, Ymax={}'.format(Xmin, Ymin, Xmax, Ymax))\n",
    "    train_data = ('train_image/' + train_df.iloc[i]['File_name']+','+str(Xmin)+','+str(Ymin)+ ','+str(Xmax)+','+str(Ymax)+','\n",
    "                  +str(train_df.iloc[i]['Coarse_lesion_type']))\n",
    "    #print(type(train_data))\n",
    "    print(train_data)\n",
    "    #手動將print出的結果複製, 並存成csv檔"
   ]
  },
  {
   "cell_type": "code",
   "execution_count": null,
   "metadata": {},
   "outputs": [],
   "source": [
    "#篩選 Train_Val_Test=2, 顯示 File_name, Bounding_boxes\n",
    "df = pd.read_csv('DL_info.csv')\n",
    "val_df = df.loc[df['Train_Val_Test']==2, ['File_name', 'Bounding_boxes', 'Coarse_lesion_type', 'Train_Val_Test']]\n",
    "#將Bounding_boxes 4個數值各別取出 (Xmin, Ymin, Xmax, Ymax)後, 再結合Train_Val_Test == 2, 並另存csv檔\n",
    "count = len(open('DL_info.csv','r').readlines())\n",
    "for i in range(count):\n",
    "    Xmin = pd.to_numeric(val_df.iloc[i]['Bounding_boxes'].split(', ')[0]).astype(np.int64)\n",
    "    Ymin = pd.to_numeric(val_df.iloc[i]['Bounding_boxes'].split(', ')[1]).astype(np.int64)\n",
    "    Xmax = pd.to_numeric(val_df.iloc[i]['Bounding_boxes'].split(', ')[2]).astype(np.int64)\n",
    "    Ymax = pd.to_numeric(val_df.iloc[i]['Bounding_boxes'].split(', ')[3]).astype(np.int64)\n",
    "    #print('Xmin={}, Ymin={}, Xmax={}, Ymax={}'.format(Xmin, Ymin, Xmax, Ymax))\n",
    "    val_data = ('validation_image/' + val_df.iloc[i]['File_name']+','+str(Xmin)+','+str(Ymin)+ ','+str(Xmax)+','+str(Ymax)+','+str(val_df.iloc[i]['Coarse_lesion_type']))\n",
    "    #print(type(val_data))\n",
    "    print(val_data)\n",
    "    #手動將print出的結果複製, 並存成csv檔"
   ]
  },
  {
   "cell_type": "code",
   "execution_count": null,
   "metadata": {},
   "outputs": [],
   "source": [
    "#篩選 Train_Val_Test=3, 顯示 File_name, Bounding_boxes\n",
    "df = pd.read_csv('DL_info.csv')\n",
    "test_df = df.loc[df['Train_Val_Test']==3, ['File_name', 'Bounding_boxes', 'Coarse_lesion_type', 'Train_Val_Test']]\n",
    "#將Bounding_boxes 4個數值各別取出 (Xmin, Ymin, Xmax, Ymax)後, 再結合Train_Val_Test == 3, 並另存csv檔\n",
    "count = len(open('DL_info.csv','r').readlines())\n",
    "for i in range(count):\n",
    "    Xmin = pd.to_numeric(test_df.iloc[i]['Bounding_boxes'].split(', ')[0]).astype(np.int64)\n",
    "    Ymin = pd.to_numeric(test_df.iloc[i]['Bounding_boxes'].split(', ')[1]).astype(np.int64)\n",
    "    Xmax = pd.to_numeric(test_df.iloc[i]['Bounding_boxes'].split(', ')[2]).astype(np.int64)\n",
    "    Ymax = pd.to_numeric(test_df.iloc[i]['Bounding_boxes'].split(', ')[3]).astype(np.int64)\n",
    "    #print('Xmin={}, Ymin={}, Xmax={}, Ymax={}'.format(Xmin, Ymin, Xmax, Ymax))\n",
    "    test_data = ('test_image/' + test_df.iloc[i]['File_name']+','+str(Xmin)+','+str(Ymin)+ ','+str(Xmax)+','+str(Ymax)+','+str(test_df.iloc[i]['Coarse_lesion_type']))\n",
    "    #print(type(val_data))\n",
    "    print(test_data)\n",
    "    #手動將print出的結果複製, 並存成csv檔"
   ]
  },
  {
   "cell_type": "code",
   "execution_count": null,
   "metadata": {},
   "outputs": [],
   "source": [
    "#驗證 TensorFlow-GPU 安裝是否成功\n",
    "from tensorflow.python.client import device_lib\n",
    "print(device_lib.list_local_devices())"
   ]
  }
 ],
 "metadata": {
  "kernelspec": {
   "display_name": "Python 3",
   "language": "python",
   "name": "python3"
  },
  "language_info": {
   "codemirror_mode": {
    "name": "ipython",
    "version": 3
   },
   "file_extension": ".py",
   "mimetype": "text/x-python",
   "name": "python",
   "nbconvert_exporter": "python",
   "pygments_lexer": "ipython3",
   "version": "3.7.3"
  }
 },
 "nbformat": 4,
 "nbformat_minor": 2
}
