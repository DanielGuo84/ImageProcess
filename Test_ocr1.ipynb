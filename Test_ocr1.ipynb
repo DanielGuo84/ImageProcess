{
 "cells": [
  {
   "cell_type": "markdown",
   "metadata": {},
   "source": [
    "1. pip install pillow  #一個python的影像處理庫，pytesseract依賴\n",
    "2. pip install pytesseract\n",
    "3. 安裝 Tesseract-OCR engine \n",
    "    https://digi.bib.uni-mannheim.de/tesseract/\n",
    "\n",
    "4. Tesseract-OCR 官方網站\n",
    "    https://github.com/tesseract-ocr/tesseract/wiki\n",
    "5. 專門的 Tool : jTessBoxEdtor, GUI介面直接操作實現訓練的情形\n",
    "    https://sourceforge.net/projects/vietocr/files/jTessBoxEditor/?source=post_page---------------------------"
   ]
  },
  {
   "cell_type": "markdown",
   "metadata": {},
   "source": [
    "tesserocr GitHub: https://github.com/sirfz/tesserocr\n",
    "tesserocr PyPI: https://pypi.python.org/pypi/tesserocr\n",
    "tesseract 下載地址: http://digi.bib.uni-mannheim.de/tesseract\n",
    "tesseract GitHub: https://github.com/tesseract-ocr/tesseract\n",
    "tesseract 語言包: http://github.com/tesseract-ocr/tessdata\n",
    "tesseract 文檔: https://github.com/tesseract-ocr/tesseract/wiki/Documentation"
   ]
  },
  {
   "cell_type": "code",
   "execution_count": 2,
   "metadata": {},
   "outputs": [],
   "source": [
    "from PIL import Image\n",
    "import pytesseract"
   ]
  },
  {
   "cell_type": "code",
   "execution_count": 12,
   "metadata": {
    "scrolled": true
   },
   "outputs": [
    {
     "name": "stdout",
     "output_type": "stream",
     "text": [
      "\n"
     ]
    }
   ],
   "source": [
    "import cv2\n",
    "import pytesseract\n",
    "from PIL import Image\n",
    "\n",
    "pytesseract.pytesseract.tesseract_cmd = 'C://Program Files (x86)/Tesseract-OCR/tesseract.exe'\n",
    "\n",
    "image = Image.open(r\"C:\\\\Users\\\\Big data\\\\Pictures\\\\Saved Pictures\\\\word6.png\")\n",
    "text = pytesseract.image_to_string(image)\n",
    "print(text)"
   ]
  },
  {
   "cell_type": "code",
   "execution_count": 1,
   "metadata": {},
   "outputs": [],
   "source": [
    "import cv2\n",
    "import pytesseract\n",
    "from PIL import Image\n",
    "\n",
    "gray_img = cv2.cvtColor(cv2.imread(\"C:\\\\Users\\\\Big data\\\\Pictures\\\\Saved Pictures\\\\word2.jpeg\"), cv2.COLOR_BGR2GRAY)\n",
    "cv2.imshow(\"gray_img\",gray_img)"
   ]
  }
 ],
 "metadata": {
  "kernelspec": {
   "display_name": "Python 3",
   "language": "python",
   "name": "python3"
  },
  "language_info": {
   "codemirror_mode": {
    "name": "ipython",
    "version": 3
   },
   "file_extension": ".py",
   "mimetype": "text/x-python",
   "name": "python",
   "nbconvert_exporter": "python",
   "pygments_lexer": "ipython3",
   "version": "3.7.3"
  }
 },
 "nbformat": 4,
 "nbformat_minor": 2
}
